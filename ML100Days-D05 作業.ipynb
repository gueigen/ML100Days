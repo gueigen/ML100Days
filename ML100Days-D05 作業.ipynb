{
 "cells": [
  {
   "cell_type": "code",
   "execution_count": 1,
   "metadata": {},
   "outputs": [],
   "source": [
    "import numpy as np\n",
    "english_score = np.array([55,89,76,65,48,70])\n",
    "math_score = np.array([60,85,60,68,np.nan,60])\n",
    "chinese_score = np.array([65,90,82,72,66,77])"
   ]
  },
  {
   "cell_type": "code",
   "execution_count": 2,
   "metadata": {},
   "outputs": [
    {
     "name": "stdout",
     "output_type": "stream",
     "text": [
      "英文平均:67.16666666666667 數學平均:66.6 國文平均:75.33333333333333 英文最大值:89 數學最大值:85.0 國文最大值:90 英文最小值:48 數學最小值:60.0 國文最小值:65 英文標準差:13.433995020924426 數學標準差:9.707728879609279 國文標準差:8.825468196582484\n"
     ]
    }
   ],
   "source": [
    "m_e = np.nanmean(english_score)\n",
    "m_m = np.nanmean(math_score)\n",
    "m_c = np.nanmean(chinese_score)\n",
    "x_e = np.nanmax(english_score)\n",
    "x_m = np.nanmax(math_score)\n",
    "x_c = np.nanmax(chinese_score)\n",
    "i_e = np.nanmin(english_score)\n",
    "i_m = np.nanmin(math_score)\n",
    "i_c = np.nanmin(chinese_score)\n",
    "s_e = np.nanstd(english_score)\n",
    "s_m = np.nanstd(math_score)\n",
    "s_c = np.nanstd(chinese_score)\n",
    "print('英文平均:{}'. format(m_e),\n",
    "      '數學平均:{}'. format(m_m),\n",
    "      '國文平均:{}'. format(m_c),\n",
    "      '英文最大值:{}'. format(x_e),\n",
    "      '數學最大值:{}'. format(x_m),\n",
    "      '國文最大值:{}'. format(x_c),\n",
    "      '英文最小值:{}'. format(i_e),\n",
    "      '數學最小值:{}'. format(i_m),\n",
    "      '國文最小值:{}'. format(i_c),\n",
    "      '英文標準差:{}'. format(s_e),\n",
    "      '數學標準差:{}'. format(s_m),\n",
    "      '國文標準差:{}'. format(s_c))"
   ]
  },
  {
   "cell_type": "code",
   "execution_count": 3,
   "metadata": {},
   "outputs": [
    {
     "name": "stdout",
     "output_type": "stream",
     "text": [
      "英文平均:67.16666666666667 數學平均:64.66666666666667 國文平均:75.33333333333333 英文最大值:89 數學最大值:85.0 國文最大值:90 英文最小值:48 數學最小值:55.0 國文最小值:65 英文標準差:13.433995020924426 數學標準差:9.860132971832694 國文標準差:8.825468196582484\n"
     ]
    }
   ],
   "source": [
    "math_score[4] = 55\n",
    "m_e = np.nanmean(english_score)\n",
    "m_m = np.nanmean(math_score)\n",
    "m_c = np.nanmean(chinese_score)\n",
    "x_e = np.nanmax(english_score)\n",
    "x_m = np.nanmax(math_score)\n",
    "x_c = np.nanmax(chinese_score)\n",
    "i_e = np.nanmin(english_score)\n",
    "i_m = np.nanmin(math_score)\n",
    "i_c = np.nanmin(chinese_score)\n",
    "s_e = np.nanstd(english_score)\n",
    "s_m = np.nanstd(math_score)\n",
    "s_c = np.nanstd(chinese_score)\n",
    "print('英文平均:{}'. format(m_e),\n",
    "      '數學平均:{}'. format(m_m),\n",
    "      '國文平均:{}'. format(m_c),\n",
    "      '英文最大值:{}'. format(x_e),\n",
    "      '數學最大值:{}'. format(x_m),\n",
    "      '國文最大值:{}'. format(x_c),\n",
    "      '英文最小值:{}'. format(i_e),\n",
    "      '數學最小值:{}'. format(i_m),\n",
    "      '國文最小值:{}'. format(i_c),\n",
    "      '英文標準差:{}'. format(s_e),\n",
    "      '數學標準差:{}'. format(s_m),\n",
    "      '國文標準差:{}'. format(s_c))"
   ]
  },
  {
   "cell_type": "code",
   "execution_count": 4,
   "metadata": {},
   "outputs": [
    {
     "name": "stdout",
     "output_type": "stream",
     "text": [
      "英文與中文相關:[[1.         0.97792828]\n",
      " [0.97792828 1.        ]] 數學與中文相關:[[1.         0.74056803]\n",
      " [0.74056803 1.        ]]\n"
     ]
    }
   ],
   "source": [
    "evsc = np.corrcoef(english_score, chinese_score)\n",
    "mvsc = np.corrcoef(math_score, chinese_score)\n",
    "print('英文與中文相關:{}'. format(evsc), '數學與中文相關:{}'. format(mvsc))"
   ]
  },
  {
   "cell_type": "code",
   "execution_count": 7,
   "metadata": {},
   "outputs": [
    {
     "name": "stdout",
     "output_type": "stream",
     "text": [
      "3\n"
     ]
    }
   ],
   "source": [
    "#新題目\n",
    "#1-1.\n",
    "english_score = np.array([55,89,76,65,48,70])\n",
    "math_score = np.array([60,85,60,68,55,60])\n",
    "chinese_score = np.array([65,90,82,72,66,77])\n",
    "print(np.sum(english_score > math_score))"
   ]
  },
  {
   "cell_type": "code",
   "execution_count": 12,
   "metadata": {},
   "outputs": [
    {
     "name": "stdout",
     "output_type": "stream",
     "text": [
      "True\n",
      "True\n"
     ]
    }
   ],
   "source": [
    "#1-2.\n",
    "C_VS_M = chinese_score > math_score\n",
    "C_VS_E = chinese_score > english_score\n",
    "print(np.all(C_VS_M))\n",
    "print(np.all(C_VS_E))"
   ]
  },
  {
   "cell_type": "code",
   "execution_count": 22,
   "metadata": {},
   "outputs": [
    {
     "name": "stdout",
     "output_type": "stream",
     "text": [
      "[ 1  2 -3 -4 -5 -6  7  8  9 10 11]\n"
     ]
    }
   ],
   "source": [
    "a = np.arange(11)+1\n",
    "a[(3 <= a) & (a <= 6)] *=-1\n",
    "print(a)"
   ]
  },
  {
   "cell_type": "code",
   "execution_count": 33,
   "metadata": {},
   "outputs": [
    {
     "name": "stdout",
     "output_type": "stream",
     "text": [
      "9\n"
     ]
    }
   ],
   "source": [
    "a = np.random.rand(3, 6)\n",
    "print(a[a > 0.5].size)"
   ]
  }
 ],
 "metadata": {
  "kernelspec": {
   "display_name": "Python 3",
   "language": "python",
   "name": "python3"
  },
  "language_info": {
   "codemirror_mode": {
    "name": "ipython",
    "version": 3
   },
   "file_extension": ".py",
   "mimetype": "text/x-python",
   "name": "python",
   "nbconvert_exporter": "python",
   "pygments_lexer": "ipython3",
   "version": "3.7.6"
  }
 },
 "nbformat": 4,
 "nbformat_minor": 4
}
