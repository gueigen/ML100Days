{
 "cells": [
  {
   "cell_type": "code",
   "execution_count": 3,
   "metadata": {},
   "outputs": [],
   "source": [
    "import numpy as np\n",
    "english_score = np.array([55,89,76,65,48,70])\n",
    "math_score = np.array([60,85,60,68,np.nan,60])\n",
    "chinese_score = np.array([65,90,82,72,66,77])"
   ]
  },
  {
   "cell_type": "code",
   "execution_count": 29,
   "metadata": {},
   "outputs": [
    {
     "name": "stdout",
     "output_type": "stream",
     "text": [
      "英文平均:67.16666666666667 數學平均:63.833333333333336 國文平均:75.33333333333333 英文最大值:89 數學最大值:85.0 國文最大值:90 英文最小值:48 數學最小值:55.0 國文最小值:65 英文標準差:13.433995020924426 數學標準差:10.414999866645328 國文標準差:8.825468196582484\n"
     ]
    }
   ],
   "source": [
    "m_e = np.nanmean(english_score)\n",
    "m_m = np.nanmean(math_score)\n",
    "m_c = np.nanmean(chinese_score)\n",
    "x_e = np.nanmax(english_score)\n",
    "x_m = np.nanmax(math_score)\n",
    "x_c = np.nanmax(chinese_score)\n",
    "i_e = np.nanmin(english_score)\n",
    "i_m = np.nanmin(math_score)\n",
    "i_c = np.nanmin(chinese_score)\n",
    "s_e = np.nanstd(english_score)\n",
    "s_m = np.nanstd(math_score)\n",
    "s_c = np.nanstd(chinese_score)\n",
    "print('英文平均:{}'. format(m_e),\n",
    "      '數學平均:{}'. format(m_m),\n",
    "      '國文平均:{}'. format(m_c),\n",
    "      '英文最大值:{}'. format(x_e),\n",
    "      '數學最大值:{}'. format(x_m),\n",
    "      '國文最大值:{}'. format(x_c),\n",
    "      '英文最小值:{}'. format(i_e),\n",
    "      '數學最小值:{}'. format(i_m),\n",
    "      '國文最小值:{}'. format(i_c),\n",
    "      '英文標準差:{}'. format(s_e),\n",
    "      '數學標準差:{}'. format(s_m),\n",
    "      '國文標準差:{}'. format(s_c))"
   ]
  },
  {
   "cell_type": "code",
   "execution_count": 30,
   "metadata": {},
   "outputs": [
    {
     "name": "stdout",
     "output_type": "stream",
     "text": [
      "英文平均:67.16666666666667 數學平均:63.833333333333336 國文平均:75.33333333333333 英文最大值:89 數學最大值:85.0 國文最大值:90 英文最小值:48 數學最小值:55.0 國文最小值:65 英文標準差:13.433995020924426 數學標準差:10.414999866645328 國文標準差:8.825468196582484\n"
     ]
    }
   ],
   "source": [
    "math_score[4] = 55\n",
    "m_e = np.nanmean(english_score)\n",
    "m_m = np.nanmean(math_score)\n",
    "m_c = np.nanmean(chinese_score)\n",
    "x_e = np.nanmax(english_score)\n",
    "x_m = np.nanmax(math_score)\n",
    "x_c = np.nanmax(chinese_score)\n",
    "i_e = np.nanmin(english_score)\n",
    "i_m = np.nanmin(math_score)\n",
    "i_c = np.nanmin(chinese_score)\n",
    "s_e = np.nanstd(english_score)\n",
    "s_m = np.nanstd(math_score)\n",
    "s_c = np.nanstd(chinese_score)\n",
    "print('英文平均:{}'. format(m_e),\n",
    "      '數學平均:{}'. format(m_m),\n",
    "      '國文平均:{}'. format(m_c),\n",
    "      '英文最大值:{}'. format(x_e),\n",
    "      '數學最大值:{}'. format(x_m),\n",
    "      '國文最大值:{}'. format(x_c),\n",
    "      '英文最小值:{}'. format(i_e),\n",
    "      '數學最小值:{}'. format(i_m),\n",
    "      '國文最小值:{}'. format(i_c),\n",
    "      '英文標準差:{}'. format(s_e),\n",
    "      '數學標準差:{}'. format(s_m),\n",
    "      '國文標準差:{}'. format(s_c))"
   ]
  },
  {
   "cell_type": "code",
   "execution_count": 33,
   "metadata": {},
   "outputs": [
    {
     "name": "stdout",
     "output_type": "stream",
     "text": [
      "英文與中文相關:[[1.         0.97792828]\n",
      " [0.97792828 1.        ]] 數學與中文相關:[[1.        0.6860035]\n",
      " [0.6860035 1.       ]]\n"
     ]
    }
   ],
   "source": [
    "evsc = np.corrcoef(english_score, chinese_score)\n",
    "mvsc = np.corrcoef(math_score, chinese_score)\n",
    "print('英文與中文相關:{}'. format(evsc), '數學與中文相關:{}'. format(mvsc))"
   ]
  },
  {
   "cell_type": "code",
   "execution_count": 28,
   "metadata": {},
   "outputs": [
    {
     "data": {
      "text/plain": [
       "array([60., 85., 60., 68., 55., 55.])"
      ]
     },
     "execution_count": 28,
     "metadata": {},
     "output_type": "execute_result"
    }
   ],
   "source": []
  }
 ],
 "metadata": {
  "kernelspec": {
   "display_name": "Python 3",
   "language": "python",
   "name": "python3"
  },
  "language_info": {
   "codemirror_mode": {
    "name": "ipython",
    "version": 3
   },
   "file_extension": ".py",
   "mimetype": "text/x-python",
   "name": "python",
   "nbconvert_exporter": "python",
   "pygments_lexer": "ipython3",
   "version": "3.7.6"
  }
 },
 "nbformat": 4,
 "nbformat_minor": 4
}
