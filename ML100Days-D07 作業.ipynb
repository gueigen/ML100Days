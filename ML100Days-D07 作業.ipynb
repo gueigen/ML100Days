{
 "cells": [
  {
   "cell_type": "code",
   "execution_count": 94,
   "metadata": {},
   "outputs": [
    {
     "data": {
      "text/plain": [
       "array([[1., 0.],\n",
       "       [0., 1.]])"
      ]
     },
     "execution_count": 94,
     "metadata": {},
     "output_type": "execute_result"
    }
   ],
   "source": [
    "import numpy as np\n",
    "array1 = np.array([[10, 8], [3, 5]])\n",
    "array2 = np.linalg.inv(array1)\n",
    "array1@array2"
   ]
  },
  {
   "cell_type": "code",
   "execution_count": 44,
   "metadata": {},
   "outputs": [
    {
     "name": "stdout",
     "output_type": "stream",
     "text": [
      "特徵向量: [[ 0.93632918 -0.70710678]\n",
      " [ 0.35112344  0.70710678]]\n",
      "特徵值: [13.  2.]\n"
     ]
    }
   ],
   "source": [
    "w, v = np.linalg.eig(array1)\n",
    "print(\"特徵向量:\", v)\n",
    "print(\"特徵值:\", w)"
   ]
  },
  {
   "cell_type": "code",
   "execution_count": 45,
   "metadata": {},
   "outputs": [
    {
     "name": "stdout",
     "output_type": "stream",
     "text": [
      "[[-0.91663818 -0.39971796]\n",
      " [-0.39971796  0.91663818]] [13.94721714  1.86417116] [[-0.74319741 -0.6690722 ]\n",
      " [-0.6690722   0.74319741]]\n"
     ]
    }
   ],
   "source": [
    "u, s, vh = np.linalg.svd(array1)\n",
    "print(u, s, vh)"
   ]
  },
  {
   "cell_type": "code",
   "execution_count": 46,
   "metadata": {},
   "outputs": [],
   "source": [
    "#新題目\n",
    "#1.\n",
    "Z = np.random.randint(0, 10, 1000000).reshape(100, 100, 100)"
   ]
  },
  {
   "cell_type": "code",
   "execution_count": 47,
   "metadata": {},
   "outputs": [
    {
     "name": "stdout",
     "output_type": "stream",
     "text": [
      "21.4 ns ± 8.33 ns per loop (mean ± std. dev. of 7 runs, 10 loops each)\n"
     ]
    }
   ],
   "source": [
    "%timeit -n 10 a = 2\n",
    "\n",
    "for i in Z:\n",
    "    for X in i:\n",
    "        for Y in X:\n",
    "            i = i + 1"
   ]
  },
  {
   "cell_type": "code",
   "execution_count": 48,
   "metadata": {},
   "outputs": [
    {
     "name": "stdout",
     "output_type": "stream",
     "text": [
      "22.9 ns ± 7 ns per loop (mean ± std. dev. of 7 runs, 10 loops each)\n"
     ]
    }
   ],
   "source": [
    "%timeit -n 10 a = 2\n",
    "for i in Z.flat:\n",
    "    i = i+1"
   ]
  },
  {
   "cell_type": "code",
   "execution_count": 50,
   "metadata": {},
   "outputs": [
    {
     "name": "stdout",
     "output_type": "stream",
     "text": [
      "22.9 ns ± 4.52 ns per loop (mean ± std. dev. of 7 runs, 10 loops each)\n"
     ]
    }
   ],
   "source": [
    "%timeit -n 10 a = 2\n",
    "for d in np.nditer(Z):\n",
    "    i = i+1"
   ]
  },
  {
   "cell_type": "code",
   "execution_count": 132,
   "metadata": {},
   "outputs": [
    {
     "name": "stdout",
     "output_type": "stream",
     "text": [
      "[5 2 7 7 1 6 9 8 8 4 6 3 9 5 3 5 5 7 9 1 1 2 1 2 5 9 9 2 0 9 3 6 4 1 0 0 9\n",
      " 1 3 1 5 5 8 0 3 8 3 6 8 1]\n"
     ]
    }
   ],
   "source": [
    "#2.\n",
    "Z = np.random.randint(0,10,50)\n",
    "print(Z)"
   ]
  },
  {
   "cell_type": "code",
   "execution_count": 133,
   "metadata": {},
   "outputs": [
    {
     "data": {
      "text/plain": [
       "(array([ 4, 19, 20, 22, 33, 37, 39, 49], dtype=int64),)"
      ]
     },
     "execution_count": 133,
     "metadata": {},
     "output_type": "execute_result"
    }
   ],
   "source": [
    "Z1 = np.bincount(Z)#算出次數\n",
    "Z2 = Z1.argmax()#找出最多的數值\n",
    "np.where(Z == Z2)#找出最多數值之位置"
   ]
  },
  {
   "cell_type": "code",
   "execution_count": 134,
   "metadata": {},
   "outputs": [
    {
     "data": {
      "text/plain": [
       "[5,\n",
       " 2,\n",
       " 7,\n",
       " 7,\n",
       " 1,\n",
       " 6,\n",
       " 9,\n",
       " 8,\n",
       " 8,\n",
       " 4,\n",
       " 6,\n",
       " 3,\n",
       " 9,\n",
       " 5,\n",
       " 3,\n",
       " 5,\n",
       " 5,\n",
       " 7,\n",
       " 9,\n",
       " 1,\n",
       " 1,\n",
       " 2,\n",
       " 1,\n",
       " 2,\n",
       " 5,\n",
       " 9,\n",
       " 9,\n",
       " 2,\n",
       " 0,\n",
       " 9,\n",
       " 3,\n",
       " 6,\n",
       " 4,\n",
       " 1,\n",
       " 0,\n",
       " 0,\n",
       " 9,\n",
       " 1,\n",
       " 3,\n",
       " 1,\n",
       " 5,\n",
       " 5,\n",
       " 8,\n",
       " 0,\n",
       " 3,\n",
       " 8,\n",
       " 3,\n",
       " 6,\n",
       " 8,\n",
       " 1]"
      ]
     },
     "execution_count": 134,
     "metadata": {},
     "output_type": "execute_result"
    }
   ],
   "source": [
    "#3\n",
    "Z.tolist()"
   ]
  },
  {
   "cell_type": "code",
   "execution_count": 137,
   "metadata": {},
   "outputs": [
    {
     "data": {
      "text/plain": [
       "[5,\n",
       " 2,\n",
       " 7,\n",
       " 7,\n",
       " 1,\n",
       " 6,\n",
       " 9,\n",
       " 8,\n",
       " 8,\n",
       " 4,\n",
       " 6,\n",
       " 3,\n",
       " 9,\n",
       " 5,\n",
       " 3,\n",
       " 5,\n",
       " 5,\n",
       " 7,\n",
       " 9,\n",
       " 1,\n",
       " 1,\n",
       " 2,\n",
       " 1,\n",
       " 2,\n",
       " 5,\n",
       " 9,\n",
       " 9,\n",
       " 2,\n",
       " 0,\n",
       " 9,\n",
       " 3,\n",
       " 6,\n",
       " 4,\n",
       " 1,\n",
       " 0,\n",
       " 0,\n",
       " 9,\n",
       " 1,\n",
       " 3,\n",
       " 1,\n",
       " 5,\n",
       " 5,\n",
       " 8,\n",
       " 0,\n",
       " 3,\n",
       " 8,\n",
       " 3,\n",
       " 6,\n",
       " 8,\n",
       " 1]"
      ]
     },
     "execution_count": 137,
     "metadata": {},
     "output_type": "execute_result"
    }
   ],
   "source": [
    "list(Z)"
   ]
  }
 ],
 "metadata": {
  "kernelspec": {
   "display_name": "Python 3",
   "language": "python",
   "name": "python3"
  },
  "language_info": {
   "codemirror_mode": {
    "name": "ipython",
    "version": 3
   },
   "file_extension": ".py",
   "mimetype": "text/x-python",
   "name": "python",
   "nbconvert_exporter": "python",
   "pygments_lexer": "ipython3",
   "version": "3.7.6"
  }
 },
 "nbformat": 4,
 "nbformat_minor": 4
}
