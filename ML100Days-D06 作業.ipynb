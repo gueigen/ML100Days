{
 "cells": [
  {
   "cell_type": "code",
   "execution_count": 3,
   "metadata": {},
   "outputs": [],
   "source": [
    "import numpy as np\n",
    "array1 = np.array(range(30))\n",
    "array2 = np.array([2,3,5])\n",
    "with open('homework.npz', 'wb') as f:\n",
    "    np.savez(f, array1 = array1, array2 = array2)"
   ]
  },
  {
   "cell_type": "code",
   "execution_count": 4,
   "metadata": {},
   "outputs": [],
   "source": [
    "array3 = np.array([[4,5,6],[1,2,3]])\n",
    "homework1 = np.load('homework.npz')\n",
    "with open('homework1.npz', 'wb') as f:\n",
    "    np.savez(f, array1 = homework1['array1'], array2 = homework1['array2'], array3 = array3)"
   ]
  },
  {
   "cell_type": "code",
   "execution_count": 5,
   "metadata": {},
   "outputs": [
    {
     "data": {
      "text/plain": [
       "['array1', 'array2', 'array3']"
      ]
     },
     "execution_count": 5,
     "metadata": {},
     "output_type": "execute_result"
    }
   ],
   "source": [
    "homework2 = np.load('homework1.npz')\n",
    "homework2.files"
   ]
  },
  {
   "cell_type": "code",
   "execution_count": 7,
   "metadata": {},
   "outputs": [
    {
     "name": "stdout",
     "output_type": "stream",
     "text": [
      "[ 0  1  2  3  4  5  6  7  8  9 10 11 12 13 14 15 16 17 18 19 20 21 22 23\n",
      " 24 25 26 27 28 29]\n",
      "[2 3 5]\n",
      "[[4 5 6]\n",
      " [1 2 3]]\n"
     ]
    }
   ],
   "source": [
    "print(homework2['array1'])\n",
    "print(homework2['array2'])\n",
    "print(homework2['array3'])"
   ]
  },
  {
   "cell_type": "code",
   "execution_count": 10,
   "metadata": {},
   "outputs": [
    {
     "name": "stdout",
     "output_type": "stream",
     "text": [
      "435\n",
      "435\n",
      "435\n"
     ]
    }
   ],
   "source": [
    "#新題目\n",
    "#1.\n",
    "a = np.array(range(30))\n",
    "print(a.sum()) \n",
    "print(np.sum(a))\n",
    "print(sum(a)) "
   ]
  },
  {
   "cell_type": "code",
   "execution_count": 13,
   "metadata": {},
   "outputs": [
    {
     "data": {
      "text/plain": [
       "array([[0.03106639, 0.60004969, 0.27814318, 0.28282427, 0.5828883 ],\n",
       "       [0.15891177, 0.64092299, 0.18333685, 0.55813285, 0.75803952],\n",
       "       [0.        , 0.97303201, 0.66865376, 0.8262257 , 0.57162214],\n",
       "       [0.2684136 , 1.        , 0.13052982, 0.18614408, 0.2770513 ],\n",
       "       [0.22892887, 0.53432584, 0.42868084, 0.31394471, 0.50955503]])"
      ]
     },
     "execution_count": 13,
     "metadata": {},
     "output_type": "execute_result"
    }
   ],
   "source": [
    "#2. 最小值最大值正規化(Min-Max Normalization) 為（原始資料-最小值）/（最大值-最小值）\n",
    "a = np.random.random((5, 5))\n",
    "a = (a - a.min()) / (a.max() - a.min())\n",
    "a"
   ]
  },
  {
   "cell_type": "code",
   "execution_count": null,
   "metadata": {},
   "outputs": [],
   "source": [
    "a = np.random.random(10)\n",
    "a[a.argmax()] = -1\n",
    "print (Z)"
   ]
  }
 ],
 "metadata": {
  "kernelspec": {
   "display_name": "Python 3",
   "language": "python",
   "name": "python3"
  },
  "language_info": {
   "codemirror_mode": {
    "name": "ipython",
    "version": 3
   },
   "file_extension": ".py",
   "mimetype": "text/x-python",
   "name": "python",
   "nbconvert_exporter": "python",
   "pygments_lexer": "ipython3",
   "version": "3.7.6"
  }
 },
 "nbformat": 4,
 "nbformat_minor": 4
}
